{
 "cells": [
  {
   "cell_type": "markdown",
   "id": "3a208d25",
   "metadata": {},
   "source": [
    "Game of Life design"
   ]
  },
  {
   "cell_type": "code",
   "execution_count": 68,
   "id": "451f2598",
   "metadata": {},
   "outputs": [],
   "source": [
    "import numpy as np\n",
    "import matplotlib.pyplot as plt\n",
    "import time\n",
    "import random"
   ]
  },
  {
   "cell_type": "code",
   "execution_count": 147,
   "id": "9c4996a0",
   "metadata": {},
   "outputs": [
    {
     "name": "stdout",
     "output_type": "stream",
     "text": [
      "universe1[0+-1,0+-1]=universe1[-1,-1]\n",
      "universe1[0+-1,0+0]=universe1[-1,0]\n",
      "universe1[0+-1,0+1]=universe1[-1,1]\n",
      "universe1[0+0,0+-1]=universe1[0,-1]\n",
      "universe1[0+0,0+0]=universe1[0,0]\n",
      "universe1[0+0,0+1]=universe1[0,1]\n",
      "universe1[0+1,0+-1]=universe1[1,-1]\n",
      "universe1[0+1,0+0]=universe1[1,0]\n",
      "universe1[0+1,0+1]=universe1[1,1]\n",
      "0\n"
     ]
    },
    {
     "data": {
      "image/png": "[encoded data removed]",
      "text/plain": [
       "<Figure size 432x288 with 1 Axes>"
      ]
     },
     "metadata": {
      "needs_background": "light"
     },
     "output_type": "display_data"
    }
   ],
   "source": [
    "#Test \n",
    "universe1=np.zeros((10,10))\n",
    "universe1[0,0]=1\n",
    "cel_ind1=(0,0)\n",
    "n_n1=0\n",
    "l0=10\n",
    "l1 =10\n",
    "\n",
    "plt.imshow(universe1, cmap='Greys')\n",
    "for i in [-1,0,1]:\n",
    "    for j in [-1,0,1]:\n",
    "        if(i!=0) or (j!=0):\n",
    "            if cel_ind1[0]+i==l0:\n",
    "                i=-cel_ind1[0]\n",
    "            if cel_ind1[1]+j==l1:\n",
    "                j=-cel_ind1[1]\n",
    "         #  print(f\"i is {i} and j is {j}\")\n",
    "            if universe1[cel_ind1[0]+i,cel_ind1[1]+j]==1:\n",
    "                print(f\"universe1[{cel_ind1[0]}+{i},{cel_ind1[1]}+{j}]=1\")\n",
    "                n_n1 += 1\n",
    "        print(f\"universe1[{cel_ind1[0]}+{i},{cel_ind1[0]}+{j}]=universe1[{cel_ind1[0]+i},{cel_ind1[1]+j}]\")       \n",
    "\n",
    "print(n_n1)\n",
    "            "
   ]
  },
  {
   "cell_type": "code",
   "execution_count": 83,
   "id": "900263a0",
   "metadata": {},
   "outputs": [],
   "source": [
    "universe=np.zeros((100,100))\n",
    "for i in [random.randint(30,70) for _ in range(20)]:\n",
    "    for j in [random.randint(40,60) for _ in range(20)]:\n",
    "        universe[i,j]=1"
   ]
  },
  {
   "cell_type": "code",
   "execution_count": 84,
   "id": "5b217b14",
   "metadata": {},
   "outputs": [
    {
     "data": {
      "text/plain": [
       "<matplotlib.image.AxesImage at 0x210ad922b20>"
      ]
     },
     "execution_count": 84,
     "metadata": {},
     "output_type": "execute_result"
    },
    {
     "data": {
      "image/png": "[encoded data removed]",
      "text/plain": [
       "<Figure size 432x288 with 1 Axes>"
      ]
     },
     "metadata": {
      "needs_background": "light"
     },
     "output_type": "display_data"
    }
   ],
   "source": [
    "plt.imshow(universe,cmap='Greys')"
   ]
  },
  {
   "cell_type": "code",
   "execution_count": 85,
   "id": "e214f094",
   "metadata": {},
   "outputs": [],
   "source": [
    "    def find_neighbours(cell_ind:tuple,universe:np.array):\n",
    "        num_neighbours=0\n",
    "        l0=universe.shape[0]\n",
    "        l1=universe.shape[1]\n",
    "        for i in [-1,0,1]:\n",
    "            for j in [-1,0,1]:\n",
    "                if (i!=0) or (j!=0):\n",
    "                    if cell_ind[0]+i==l0:\n",
    "                        i=-cell_ind[0]\n",
    "                    if cell_ind[1]+j==l1:\n",
    "                        j=-cell_ind[1]\n",
    "                    if universe[cell_ind[0]+i, cell_ind[1]+j]==1:\n",
    "                        num_neighbours += 1\n",
    "        return num_neighbours\n",
    "    "
   ]
  },
  {
   "cell_type": "code",
   "execution_count": 86,
   "id": "ed5f76ad",
   "metadata": {},
   "outputs": [
    {
     "data": {
      "text/plain": [
       "0"
      ]
     },
     "execution_count": 86,
     "metadata": {},
     "output_type": "execute_result"
    }
   ],
   "source": [
    "cell_ind=(5,15)\n",
    "find_neighbours(cell_ind,universe)"
   ]
  },
  {
   "cell_type": "code",
   "execution_count": 133,
   "id": "2a9205c5",
   "metadata": {},
   "outputs": [],
   "source": [
    "def pass_time(universe):\n",
    "    num_neighbours_map=np.zeros(universe.shape)\n",
    "    for i in range(universe.shape[0]):\n",
    "        for j in range(universe.shape[1]):\n",
    "            num_neighbours_map[i,j]=find_neighbours((i,j),universe)\n",
    "            \n",
    "    new_universe=np.zeros(universe.shape)\n",
    "    survivors=(universe==1)&((num_neighbours_map==2)|(num_neighbours_map==3))\n",
    "    zombie=(universe==0)&(num_neighbours_map==3)\n",
    "    new_universe =(survivors == 1) | (zombie == 1)\n",
    "    \n",
    "    return new_universe"
   ]
  },
  {
   "cell_type": "code",
   "execution_count": 144,
   "id": "a567d82c",
   "metadata": {},
   "outputs": [
    {
     "data": {
      "image/png": "[encoded data removed]",
      "text/plain": [
       "<Figure size 720x720 with 1 Axes>"
      ]
     },
     "metadata": {
      "needs_background": "light"
     },
     "output_type": "display_data"
    }
   ],
   "source": [
    "from IPython.display import clear_output\n",
    "from time import sleep\n",
    "\n",
    "num_turns=10\n",
    "new_universe=universe\n",
    "for _ in range(num_turns):\n",
    "    new_universe=pass_time(new_universe)\n",
    "    plt.figure(figsize=(10,10))\n",
    "    plt.imshow(new_universe,cmap='Greys')\n",
    "    plt.show()\n",
    "    sleep(1)\n",
    "    clear_output(wait=True)"
   ]
  },
  {
   "cell_type": "code",
   "execution_count": null,
   "id": "429f1d01",
   "metadata": {},
   "outputs": [],
   "source": [
    "\n"
   ]
  },
  {
   "cell_type": "code",
   "execution_count": null,
   "id": "78050c31",
   "metadata": {},
   "outputs": [],
   "source": []
  }
 ],
 "metadata": {
  "kernelspec": {
   "display_name": "Python 3 (ipykernel)",
   "language": "python",
   "name": "python3"
  },
  "language_info": {
   "codemirror_mode": {
    "name": "ipython",
    "version": 3
   },
   "file_extension": ".py",
   "mimetype": "text/x-python",
   "name": "python",
   "nbconvert_exporter": "python",
   "pygments_lexer": "ipython3",
   "version": "3.9.12"
  }
 },
 "nbformat": 4,
 "nbformat_minor": 5
}
